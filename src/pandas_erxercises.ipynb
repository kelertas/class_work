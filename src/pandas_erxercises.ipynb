{
 "cells": [
  {
   "cell_type": "code",
   "execution_count": 1,
   "id": "24489a99",
   "metadata": {},
   "outputs": [],
   "source": [
    "import numpy as np\n",
    "import pandas as pd"
   ]
  },
  {
   "cell_type": "markdown",
   "id": "17b90747-c2d7-4c42-9506-000dbcadcfeb",
   "metadata": {},
   "source": [
    "1. Write a Pandas program to select the rows where the number of attempts in the examination is greater than 2.\n",
    "\n",
    "Sample DataFrame: <br>\n",
    "exam_data = {'name': ['Anastasia', 'Dima', 'Katherine', 'James', 'Emily', 'Michael', 'Matthew', 'Laura', 'Kevin', 'Jonas'],\n",
    "'score': [12.5, 9, 16.5, np.nan, 9, 20, 14.5, np.nan, 8, 19], <br>\n",
    "'attempts': [1, 3, 2, 3, 2, 3, 1, 1, 2, 1], <br>\n",
    "'qualify': ['yes', 'no', 'yes', 'no', 'no', 'yes', 'yes', 'no', 'no', 'yes']} <br>\n",
    "labels = ['a', 'b', 'c', 'd', 'e', 'f', 'g', 'h', 'i', 'j'] <br>"
   ]
  },
  {
   "cell_type": "code",
   "execution_count": 3,
   "id": "d9004866-26f1-471c-941e-543c6ef10de7",
   "metadata": {},
   "outputs": [
    {
     "data": {
      "text/html": [
       "<div>\n",
       "<style scoped>\n",
       "    .dataframe tbody tr th:only-of-type {\n",
       "        vertical-align: middle;\n",
       "    }\n",
       "\n",
       "    .dataframe tbody tr th {\n",
       "        vertical-align: top;\n",
       "    }\n",
       "\n",
       "    .dataframe thead th {\n",
       "        text-align: right;\n",
       "    }\n",
       "</style>\n",
       "<table border=\"1\" class=\"dataframe\">\n",
       "  <thead>\n",
       "    <tr style=\"text-align: right;\">\n",
       "      <th></th>\n",
       "      <th>name</th>\n",
       "      <th>score</th>\n",
       "      <th>attempts</th>\n",
       "      <th>qualify</th>\n",
       "    </tr>\n",
       "  </thead>\n",
       "  <tbody>\n",
       "    <tr>\n",
       "      <th>1</th>\n",
       "      <td>Dima</td>\n",
       "      <td>9.0</td>\n",
       "      <td>3</td>\n",
       "      <td>no</td>\n",
       "    </tr>\n",
       "    <tr>\n",
       "      <th>3</th>\n",
       "      <td>James</td>\n",
       "      <td>NaN</td>\n",
       "      <td>3</td>\n",
       "      <td>no</td>\n",
       "    </tr>\n",
       "    <tr>\n",
       "      <th>5</th>\n",
       "      <td>Michael</td>\n",
       "      <td>20.0</td>\n",
       "      <td>3</td>\n",
       "      <td>yes</td>\n",
       "    </tr>\n",
       "  </tbody>\n",
       "</table>\n",
       "</div>"
      ],
      "text/plain": [
       "      name  score  attempts qualify\n",
       "1     Dima    9.0         3      no\n",
       "3    James    NaN         3      no\n",
       "5  Michael   20.0         3     yes"
      ]
     },
     "execution_count": 3,
     "metadata": {},
     "output_type": "execute_result"
    }
   ],
   "source": [
    "exam_data = {'name': ['Anastasia', 'Dima', 'Katherine', 'James', 'Emily', 'Michael', 'Matthew', 'Laura', 'Kevin', 'Jonas'],\n",
    "'score': [12.5, 9, 16.5, np.nan, 9, 20, 14.5, np.nan, 8, 19],\n",
    "'attempts': [1, 3, 2, 3, 2, 3, 1, 1, 2, 1],\n",
    "'qualify': ['yes', 'no', 'yes', 'no', 'no', 'yes', 'yes', 'no', 'no', 'yes']}\n",
    "\n",
    "labels = ['a', 'b', 'c', 'd', 'e', 'f', 'g', 'h', 'i', 'j']\n",
    "\n",
    "df = pd.DataFrame(exam_data)\n",
    "filter1 = df['attempts'] > 2\n",
    "df[filter1]\n"
   ]
  },
  {
   "cell_type": "markdown",
   "id": "0d998009-a544-47e8-b0c9-aa053c901c41",
   "metadata": {},
   "source": [
    "2. Write a Pandas program to select the rows where number of attempts in the examination is less than 2 and score greater than 15.\n",
    "\n",
    "Sample DataFrame: <br>\n",
    "Sample Python dictionary data and list labels: <br>\n",
    "exam_data = {'name': ['Anastasia', 'Dima', 'Katherine', 'James', 'Emily', 'Michael', 'Matthew', 'Laura', 'Kevin', 'Jonas'],<br>\n",
    "'score': [12.5, 9, 16.5, np.nan, 9, 20, 14.5, np.nan, 8, 19],<br>\n",
    "'attempts': [1, 3, 2, 3, 2, 3, 1, 1, 2, 1],<br>\n",
    "'qualify': ['yes', 'no', 'yes', 'no', 'no', 'yes', 'yes', 'no', 'no', 'yes']}<br>\n",
    "labels = ['a', 'b', 'c', 'd', 'e', 'f', 'g', labels = ['a', 'b', 'c', 'd', 'e', 'f', 'g', 'h', 'i', 'j']<br>"
   ]
  },
  {
   "cell_type": "code",
   "execution_count": 8,
   "id": "b8531ff0-2dd4-40ca-92ef-7fdf6e0b9a75",
   "metadata": {},
   "outputs": [
    {
     "data": {
      "text/html": [
       "<div>\n",
       "<style scoped>\n",
       "    .dataframe tbody tr th:only-of-type {\n",
       "        vertical-align: middle;\n",
       "    }\n",
       "\n",
       "    .dataframe tbody tr th {\n",
       "        vertical-align: top;\n",
       "    }\n",
       "\n",
       "    .dataframe thead th {\n",
       "        text-align: right;\n",
       "    }\n",
       "</style>\n",
       "<table border=\"1\" class=\"dataframe\">\n",
       "  <thead>\n",
       "    <tr style=\"text-align: right;\">\n",
       "      <th></th>\n",
       "      <th>name</th>\n",
       "      <th>score</th>\n",
       "      <th>attempts</th>\n",
       "      <th>qualify</th>\n",
       "    </tr>\n",
       "  </thead>\n",
       "  <tbody>\n",
       "    <tr>\n",
       "      <th>9</th>\n",
       "      <td>Jonas</td>\n",
       "      <td>19.0</td>\n",
       "      <td>1</td>\n",
       "      <td>yes</td>\n",
       "    </tr>\n",
       "  </tbody>\n",
       "</table>\n",
       "</div>"
      ],
      "text/plain": [
       "    name  score  attempts qualify\n",
       "9  Jonas   19.0         1     yes"
      ]
     },
     "execution_count": 8,
     "metadata": {},
     "output_type": "execute_result"
    }
   ],
   "source": [
    "exam_data = {'name': ['Anastasia', 'Dima', 'Katherine', 'James', 'Emily', 'Michael', 'Matthew', 'Laura', 'Kevin', 'Jonas'],\n",
    "'score': [12.5, 9, 16.5, np.nan, 9, 20, 14.5, np.nan, 8, 19],\n",
    "'attempts': [1, 3, 2, 3, 2, 3, 1, 1, 2, 1],\n",
    "'qualify': ['yes', 'no', 'yes', 'no', 'no', 'yes', 'yes', 'no', 'no', 'yes']}\n",
    "labels = ['a', 'b', 'c', 'd', 'e', 'f', 'g'] \n",
    "labels1 = ['a', 'b', 'c', 'd', 'e', 'f', 'g', 'h', 'i', 'j']\n",
    "\n",
    "df = pd.DataFrame(exam_data)\n",
    "filter1 = df['attempts'] < 2 \n",
    "filter2 = df['score'] > 15\n",
    "df[filter1 & filter2]"
   ]
  },
  {
   "cell_type": "markdown",
   "id": "94ede5d3-22a7-425e-9183-b47730189f3b",
   "metadata": {},
   "source": [
    "3. Write a Pandas program to replace all the NaN values with Zero's in a column of a dataframe.\n",
    "\n",
    "<center> Original DataFrame:</center>\n",
    "\n",
    "|| attempts | name | qualify | score |\n",
    "| --- | --- | --- | --- | --- |\n",
    "0 |1 |Anastasia| yes| 12.5|\n",
    "1 |3 |Dima| no| 9.0|\n",
    "2 |2 |Katherine| yes| 16.5|\n",
    "3 |3 |James| no| NaN|\n",
    "4 |2 |Emily| no| 9.0|\n",
    "5 |3 |Michael| yes| 20.0|\n",
    "6 |1 |Matthew| yes| 14.5|\n",
    "7 |1 |Laura| no| NaN|\n",
    "8 |2 |Kevin| no| 8.0|\n",
    "9 |1 |Jonas| yes| 19.0|\n",
    "\n",
    "<center>New DataFrame replacing all NaN with 0:</center>\n",
    "\n",
    "|| attempts | name | qualify | score |\n",
    "| --- | --- | --- | --- | --- |\n",
    "0 |1 |Anastasia| yes| 12.5|\n",
    "1 |3 |Dima| no| 9.0|\n",
    "2 |2 |Katherine| yes| 16.5|\n",
    "3 |3 |James| no| 0.0|\n",
    "4 |2 |Emily| no| 9.0|\n",
    "5 |3 |Michael| yes| 20.0|\n",
    "6 |1 |Matthew| yes| 14.5|\n",
    "7 |1 |Laura| no| 0.0|\n",
    "8 |2 |Kevin| no| 8.0|\n",
    "9 |1 |Jonas| yes| 19.0|"
   ]
  },
  {
   "cell_type": "code",
   "execution_count": 12,
   "id": "db8d6aab-5e57-4bc8-9dea-92bc084d6cae",
   "metadata": {},
   "outputs": [
    {
     "data": {
      "text/html": [
       "<div>\n",
       "<style scoped>\n",
       "    .dataframe tbody tr th:only-of-type {\n",
       "        vertical-align: middle;\n",
       "    }\n",
       "\n",
       "    .dataframe tbody tr th {\n",
       "        vertical-align: top;\n",
       "    }\n",
       "\n",
       "    .dataframe thead th {\n",
       "        text-align: right;\n",
       "    }\n",
       "</style>\n",
       "<table border=\"1\" class=\"dataframe\">\n",
       "  <thead>\n",
       "    <tr style=\"text-align: right;\">\n",
       "      <th></th>\n",
       "      <th>name</th>\n",
       "      <th>score</th>\n",
       "      <th>attempts</th>\n",
       "      <th>qualify</th>\n",
       "    </tr>\n",
       "  </thead>\n",
       "  <tbody>\n",
       "    <tr>\n",
       "      <th>0</th>\n",
       "      <td>Anastasia</td>\n",
       "      <td>12.5</td>\n",
       "      <td>1</td>\n",
       "      <td>yes</td>\n",
       "    </tr>\n",
       "    <tr>\n",
       "      <th>1</th>\n",
       "      <td>Dima</td>\n",
       "      <td>9.0</td>\n",
       "      <td>3</td>\n",
       "      <td>no</td>\n",
       "    </tr>\n",
       "    <tr>\n",
       "      <th>2</th>\n",
       "      <td>Katherine</td>\n",
       "      <td>16.5</td>\n",
       "      <td>2</td>\n",
       "      <td>yes</td>\n",
       "    </tr>\n",
       "    <tr>\n",
       "      <th>3</th>\n",
       "      <td>James</td>\n",
       "      <td>0.0</td>\n",
       "      <td>3</td>\n",
       "      <td>no</td>\n",
       "    </tr>\n",
       "    <tr>\n",
       "      <th>4</th>\n",
       "      <td>Emily</td>\n",
       "      <td>9.0</td>\n",
       "      <td>2</td>\n",
       "      <td>no</td>\n",
       "    </tr>\n",
       "    <tr>\n",
       "      <th>5</th>\n",
       "      <td>Michael</td>\n",
       "      <td>20.0</td>\n",
       "      <td>3</td>\n",
       "      <td>yes</td>\n",
       "    </tr>\n",
       "    <tr>\n",
       "      <th>6</th>\n",
       "      <td>Matthew</td>\n",
       "      <td>14.5</td>\n",
       "      <td>1</td>\n",
       "      <td>yes</td>\n",
       "    </tr>\n",
       "    <tr>\n",
       "      <th>7</th>\n",
       "      <td>Laura</td>\n",
       "      <td>0.0</td>\n",
       "      <td>1</td>\n",
       "      <td>no</td>\n",
       "    </tr>\n",
       "    <tr>\n",
       "      <th>8</th>\n",
       "      <td>Kevin</td>\n",
       "      <td>8.0</td>\n",
       "      <td>2</td>\n",
       "      <td>no</td>\n",
       "    </tr>\n",
       "    <tr>\n",
       "      <th>9</th>\n",
       "      <td>Jonas</td>\n",
       "      <td>19.0</td>\n",
       "      <td>1</td>\n",
       "      <td>yes</td>\n",
       "    </tr>\n",
       "  </tbody>\n",
       "</table>\n",
       "</div>"
      ],
      "text/plain": [
       "        name  score  attempts qualify\n",
       "0  Anastasia   12.5         1     yes\n",
       "1       Dima    9.0         3      no\n",
       "2  Katherine   16.5         2     yes\n",
       "3      James    0.0         3      no\n",
       "4      Emily    9.0         2      no\n",
       "5    Michael   20.0         3     yes\n",
       "6    Matthew   14.5         1     yes\n",
       "7      Laura    0.0         1      no\n",
       "8      Kevin    8.0         2      no\n",
       "9      Jonas   19.0         1     yes"
      ]
     },
     "execution_count": 12,
     "metadata": {},
     "output_type": "execute_result"
    }
   ],
   "source": [
    "exam_data = {'name': ['Anastasia', 'Dima', 'Katherine', 'James', 'Emily', 'Michael', 'Matthew', 'Laura', 'Kevin', 'Jonas'],\n",
    "'score': [12.5, 9, 16.5, np.nan, 9, 20, 14.5, np.nan, 8, 19],\n",
    "'attempts': [1, 3, 2, 3, 2, 3, 1, 1, 2, 1],\n",
    "'qualify': ['yes', 'no', 'yes', 'no', 'no', 'yes', 'yes', 'no', 'no', 'yes']}\n",
    "\n",
    "df = pd.DataFrame(exam_data)\n",
    "df1 = df.fillna(0)\n",
    "df1"
   ]
  },
  {
   "cell_type": "markdown",
   "id": "8603671d-2a47-46c9-9c95-d8250b2a849f",
   "metadata": {},
   "source": [
    "4. Write a Pandas program to check whether a given column is present in a DataFrame or not. \n",
    "\n",
    "<center>Original DataFrame:</center>\n",
    "\n",
    "|(index)| col1 | col2 | col3 |\n",
    "| --- | --- | --- | --- |\n",
    "0| 1| 4| 7<br>\n",
    "1| 2| 5| 8<br>\n",
    "2| 3| 6| 12<br>\n",
    "3| 4| 9| 1<br>\n",
    "4| 7| 5| 11<br>\n",
    "\n",
    "Hint: <br>\n",
    "Col4 is not present in DataFrame.<br>\n",
    "Col1 is present in DataFrame.<br>"
   ]
  },
  {
   "cell_type": "code",
   "execution_count": 16,
   "id": "882c1ad2-12a5-4cec-81d8-5365cfccf102",
   "metadata": {},
   "outputs": [
    {
     "name": "stdout",
     "output_type": "stream",
     "text": [
      "True\n",
      "False\n"
     ]
    }
   ],
   "source": [
    "arr = np.array([[1,4,7], [2,5,8], [3,6,12], [4,9,1], [7,5,11]])\n",
    "df = pd.DataFrame(arr, columns=['col1', 'col2', 'col3'])\n",
    "print('col1' in df)\n",
    "print('col4' in df)"
   ]
  },
  {
   "cell_type": "markdown",
   "id": "545392ab-c942-4318-8003-0ebc5ea5e957",
   "metadata": {},
   "source": [
    "5. Write a Pandas program to insert a given column (col1) at a specific column index (first) in a DataFrame.\n",
    "\n",
    "<center> Original DataFrame: </center>\n",
    "\n",
    "|| col2 | col3 | \n",
    "| --- | --- | --- |\n",
    "0| 4| 7 <br>\n",
    "1| 5| 8 <br>\n",
    "2| 6| 12 <br>\n",
    "3| 9| 1 <br>\n",
    "4| 5| 11 <br>\n",
    "\n",
    "<center> New DataFrame: </center>\n",
    "\n",
    "|| col1 | col2 | col3 |\n",
    "| --- | --- | --- | --- |\n",
    "0| 1| 4| 7 <br>\n",
    "1| 2| 5| 8 <br>\n",
    "2| 3| 6| 12 <br>\n",
    "3| 4| 9| 1 <br>\n",
    "4| 7| 5| 11 <br>"
   ]
  },
  {
   "cell_type": "code",
   "execution_count": 28,
   "id": "bbf8136f-6dcc-4827-b254-36a11075fae5",
   "metadata": {},
   "outputs": [
    {
     "data": {
      "text/html": [
       "<div>\n",
       "<style scoped>\n",
       "    .dataframe tbody tr th:only-of-type {\n",
       "        vertical-align: middle;\n",
       "    }\n",
       "\n",
       "    .dataframe tbody tr th {\n",
       "        vertical-align: top;\n",
       "    }\n",
       "\n",
       "    .dataframe thead th {\n",
       "        text-align: right;\n",
       "    }\n",
       "</style>\n",
       "<table border=\"1\" class=\"dataframe\">\n",
       "  <thead>\n",
       "    <tr style=\"text-align: right;\">\n",
       "      <th></th>\n",
       "      <th>col1</th>\n",
       "      <th>col2</th>\n",
       "      <th>col3</th>\n",
       "    </tr>\n",
       "  </thead>\n",
       "  <tbody>\n",
       "    <tr>\n",
       "      <th>0</th>\n",
       "      <td>1</td>\n",
       "      <td>4</td>\n",
       "      <td>7</td>\n",
       "    </tr>\n",
       "    <tr>\n",
       "      <th>1</th>\n",
       "      <td>2</td>\n",
       "      <td>5</td>\n",
       "      <td>8</td>\n",
       "    </tr>\n",
       "    <tr>\n",
       "      <th>2</th>\n",
       "      <td>3</td>\n",
       "      <td>6</td>\n",
       "      <td>12</td>\n",
       "    </tr>\n",
       "    <tr>\n",
       "      <th>3</th>\n",
       "      <td>4</td>\n",
       "      <td>9</td>\n",
       "      <td>1</td>\n",
       "    </tr>\n",
       "    <tr>\n",
       "      <th>4</th>\n",
       "      <td>7</td>\n",
       "      <td>5</td>\n",
       "      <td>11</td>\n",
       "    </tr>\n",
       "  </tbody>\n",
       "</table>\n",
       "</div>"
      ],
      "text/plain": [
       "   col1  col2  col3\n",
       "0     1     4     7\n",
       "1     2     5     8\n",
       "2     3     6    12\n",
       "3     4     9     1\n",
       "4     7     5    11"
      ]
     },
     "execution_count": 28,
     "metadata": {},
     "output_type": "execute_result"
    }
   ],
   "source": [
    "arr = np.array([[1,4], [2,5], [3,6], [4,9],[7,5]])\n",
    "df = pd.DataFrame(arr, columns=['col1', 'col2'])\n",
    "df.insert(2, 'col3', [7,8,12,1,11])\n",
    "df"
   ]
  },
  {
   "cell_type": "markdown",
   "id": "abffabd8-3d86-4dbb-a3c6-7afda0353388",
   "metadata": {},
   "source": [
    "6. Write a Pandas program to group by the first column and get second column as lists in rows.\n",
    "\n",
    "<center> Original DataFrame: </center>\n",
    "\n",
    "|| col1 | col2 | \n",
    "| --- | --- | --- |\n",
    "0| C1| 1 <br>\n",
    "1| C1| 2 <br>\n",
    "2| C2| 3 <br>\n",
    "3| C2| 3 <br>\n",
    "4| C2| 4 <br>\n",
    "5| C3| 6 <br>\n",
    "6| C2| 5 <br>\n"
   ]
  },
  {
   "cell_type": "code",
   "execution_count": 35,
   "id": "246e989e-ad53-4358-867e-e5a44e8c19f1",
   "metadata": {},
   "outputs": [
    {
     "data": {
      "text/html": [
       "<div>\n",
       "<style scoped>\n",
       "    .dataframe tbody tr th:only-of-type {\n",
       "        vertical-align: middle;\n",
       "    }\n",
       "\n",
       "    .dataframe tbody tr th {\n",
       "        vertical-align: top;\n",
       "    }\n",
       "\n",
       "    .dataframe thead th {\n",
       "        text-align: right;\n",
       "    }\n",
       "</style>\n",
       "<table border=\"1\" class=\"dataframe\">\n",
       "  <thead>\n",
       "    <tr style=\"text-align: right;\">\n",
       "      <th></th>\n",
       "      <th>col1</th>\n",
       "      <th>col2</th>\n",
       "    </tr>\n",
       "  </thead>\n",
       "  <tbody>\n",
       "    <tr>\n",
       "      <th>0</th>\n",
       "      <td>C1</td>\n",
       "      <td>1</td>\n",
       "    </tr>\n",
       "    <tr>\n",
       "      <th>1</th>\n",
       "      <td>C1</td>\n",
       "      <td>2</td>\n",
       "    </tr>\n",
       "  </tbody>\n",
       "</table>\n",
       "</div>"
      ],
      "text/plain": [
       "  col1  col2\n",
       "0   C1     1\n",
       "1   C1     2"
      ]
     },
     "execution_count": 35,
     "metadata": {},
     "output_type": "execute_result"
    }
   ],
   "source": [
    "df = pd.DataFrame([['C1', 1], ['C1',2], ['C2',3],  ['C2',3], ['C2',4],  ['C3',6], ['C2', 5]], columns=['col1', 'col2'] )\n",
    "col1_df = df.groupby('col1')\n",
    "col1_df.get_group('C1')"
   ]
  },
  {
   "cell_type": "markdown",
   "id": "cad41a70-f438-4e2e-a6d4-601fbd75d52d",
   "metadata": {},
   "source": [
    "7. Write a Pandas program to select all columns, except one given column (col3) in a DataFrame. \n",
    "\n",
    "<center> Original DataFrame: </center>\n",
    "\n",
    "|| col1 | col2 | col3 |\n",
    "| --- | --- | --- | --- |\n",
    "0| 1| 4| 7 <br>\n",
    "1| 2| 5| 8 <br>\n",
    "2| 3| 6| 12 <br>\n",
    "3| 4| 9| 1 <br>\n",
    "4| 7| 5| 11 <br>\n"
   ]
  },
  {
   "cell_type": "code",
   "execution_count": 42,
   "id": "f8cc6c50-3a6e-41d7-a815-4dc60bc706bd",
   "metadata": {},
   "outputs": [
    {
     "data": {
      "text/html": [
       "<div>\n",
       "<style scoped>\n",
       "    .dataframe tbody tr th:only-of-type {\n",
       "        vertical-align: middle;\n",
       "    }\n",
       "\n",
       "    .dataframe tbody tr th {\n",
       "        vertical-align: top;\n",
       "    }\n",
       "\n",
       "    .dataframe thead th {\n",
       "        text-align: right;\n",
       "    }\n",
       "</style>\n",
       "<table border=\"1\" class=\"dataframe\">\n",
       "  <thead>\n",
       "    <tr style=\"text-align: right;\">\n",
       "      <th></th>\n",
       "      <th>col1</th>\n",
       "      <th>col2</th>\n",
       "    </tr>\n",
       "  </thead>\n",
       "  <tbody>\n",
       "    <tr>\n",
       "      <th>0</th>\n",
       "      <td>1</td>\n",
       "      <td>4</td>\n",
       "    </tr>\n",
       "    <tr>\n",
       "      <th>1</th>\n",
       "      <td>2</td>\n",
       "      <td>5</td>\n",
       "    </tr>\n",
       "    <tr>\n",
       "      <th>2</th>\n",
       "      <td>3</td>\n",
       "      <td>6</td>\n",
       "    </tr>\n",
       "    <tr>\n",
       "      <th>3</th>\n",
       "      <td>4</td>\n",
       "      <td>9</td>\n",
       "    </tr>\n",
       "    <tr>\n",
       "      <th>4</th>\n",
       "      <td>7</td>\n",
       "      <td>5</td>\n",
       "    </tr>\n",
       "  </tbody>\n",
       "</table>\n",
       "</div>"
      ],
      "text/plain": [
       "   col1  col2\n",
       "0     1     4\n",
       "1     2     5\n",
       "2     3     6\n",
       "3     4     9\n",
       "4     7     5"
      ]
     },
     "execution_count": 42,
     "metadata": {},
     "output_type": "execute_result"
    }
   ],
   "source": [
    "arr = np.array([[1,4], [2,5], [3,6], [4,9],[7,5]])\n",
    "df = pd.DataFrame(arr, columns=['col1', 'col2'])\n",
    "df.insert(2, 'col3', [7,8,12,1,11])\n",
    "\n",
    "#df = df[['col1', 'col2']]\n",
    "df = df.iloc[:, 0:2]\n",
    "df"
   ]
  },
  {
   "cell_type": "markdown",
   "id": "2825e516-91aa-4f56-b421-990024a51020",
   "metadata": {},
   "source": [
    "8. Write a Pandas program to count number of columns of a DataFrame. \n",
    "\n",
    "<center> Original DataFrame: </center>\n",
    "\n",
    "|| col1 | col2 | col3 |\n",
    "| --- | --- | --- | --- |\n",
    "0| 1| 4| 7 <br>\n",
    "1| 2| 5| 8 <br>\n",
    "2| 3| 6| 12 <br>\n",
    "3| 4| 9| 1 <br>\n",
    "4| 7| 5| 11 <br>\n"
   ]
  },
  {
   "cell_type": "code",
   "execution_count": 43,
   "id": "bf9f0453-31a9-45c6-86c9-42950ccb0209",
   "metadata": {},
   "outputs": [
    {
     "data": {
      "text/plain": [
       "3"
      ]
     },
     "execution_count": 43,
     "metadata": {},
     "output_type": "execute_result"
    }
   ],
   "source": [
    "arr = np.array([[1,4], [2,5], [3,6], [4,9],[7,5]])\n",
    "df = pd.DataFrame(arr, columns=['col1', 'col2'])\n",
    "df.insert(2, 'col3', [7,8,12,1,11])\n",
    "\n",
    "len(df.columns)"
   ]
  },
  {
   "cell_type": "markdown",
   "id": "ed449f65-a5e4-47fd-9812-0aa89c90ce76",
   "metadata": {},
   "source": [
    "9. Write a Pandas program to get topmost n records within each group of a DataFrame. \n",
    "\n",
    "<center> Original DataFrame: </center>\n",
    "\n",
    "|| col1 | col2 | col3 |\n",
    "| --- | --- | --- | --- |\n",
    "0| 1| 4| 7 <br>\n",
    "1| 2| 5| 5 <br>\n",
    "2| 3| 6| 8 <br>\n",
    "3| 4| 9| 12 <br>\n",
    "4| 7| 5| 1 <br>\n",
    "5| 11| 0| 11 <br>\n"
   ]
  },
  {
   "cell_type": "code",
   "execution_count": 45,
   "id": "0f8194ae-3fa8-437e-bcfe-b8071b2dac9c",
   "metadata": {},
   "outputs": [
    {
     "ename": "TypeError",
     "evalue": "BaseGroupBy.get_group() missing 1 required positional argument: 'name'",
     "output_type": "error",
     "traceback": [
      "\u001b[0;31m---------------------------------------------------------------------------\u001b[0m",
      "\u001b[0;31mTypeError\u001b[0m                                 Traceback (most recent call last)",
      "Cell \u001b[0;32mIn [45], line 5\u001b[0m\n\u001b[1;32m      3\u001b[0m df\u001b[39m.\u001b[39minsert(\u001b[39m2\u001b[39m, \u001b[39m'\u001b[39m\u001b[39mcol3\u001b[39m\u001b[39m'\u001b[39m, [\u001b[39m7\u001b[39m,\u001b[39m5\u001b[39m,\u001b[39m8\u001b[39m,\u001b[39m12\u001b[39m,\u001b[39m1\u001b[39m,\u001b[39m11\u001b[39m])\n\u001b[1;32m      4\u001b[0m df1 \u001b[39m=\u001b[39m df\u001b[39m.\u001b[39mgroupby(\u001b[39m'\u001b[39m\u001b[39mcol1\u001b[39m\u001b[39m'\u001b[39m)\n\u001b[0;32m----> 5\u001b[0m df1\u001b[39m.\u001b[39;49mget_group()\n",
      "\u001b[0;31mTypeError\u001b[0m: BaseGroupBy.get_group() missing 1 required positional argument: 'name'"
     ]
    }
   ],
   "source": [
    "arr = np.array([[1,4], [2,5], [3,6], [4,9],[7,5], [11,0]])\n",
    "df = pd.DataFrame(arr, columns=['col1', 'col2'])\n",
    "df.insert(2, 'col3', [7,5,8,12,1,11])\n",
    "#nebaigta"
   ]
  },
  {
   "cell_type": "markdown",
   "id": "457f723f-51f1-4456-9e8f-14e61f939faf",
   "metadata": {},
   "source": [
    "10. Write a Pandas program to split the following dataframe into groups, group by month and year based on order date and find the total purchase amount year wise, month wise.\n",
    "\n",
    "<center> Test Data:</center>\n",
    "\n",
    "|| ord_no | purch_amt | ord_date | customer_id | salesman_id |\n",
    "| --- | --- | --- | --- | --- | --- |\n",
    "0|    70001|     150.50  |05-10-2012|         3001|         5002<br>\n",
    "1 |   70009 |    270.65 | 09-10-2012 |        3001 |        5005<br>\n",
    "2  |  70002  |    65.26|  05-10-2012  |       3005  |       5001<br>\n",
    "3   | 70004   |  110.50  |08-17-2012   |      3001   |      5003<br>\n",
    "4    |70007    | 948.50 | 10-09-2012    |     3005    |     5002<br>\n",
    "5|    70005|    2400.60|  07-27-2012     |    3001     |    5001<br>\n",
    "6 |   70008 |   5760.00  |10-09-2012      |   3005      |   5001<br>\n",
    "7  |  70010  |  1983.43 | 10-10-2012       |  3001       |  5006<br>\n",
    "8   | 70003   | 2480.40|  10-10-2012        | 3005        | 5003<br>\n",
    "9    |70012    | 250.45  |06-17-2012         |3001         |5002<br>\n",
    "10|   70011     | 75.29 | 07-08-2012        | 3005        | 5007<br>\n",
    "11 |  70013|    3045.60|  04-25-2012       |  3005       |  5001<br>"
   ]
  },
  {
   "cell_type": "code",
   "execution_count": null,
   "id": "7d56155e-eae6-40c5-83e7-692d07e13832",
   "metadata": {},
   "outputs": [],
   "source": []
  },
  {
   "cell_type": "markdown",
   "id": "9af8ce09-7c3f-4d74-8a91-3f54c7c28f8c",
   "metadata": {},
   "source": [
    "11. Write a Pandas program to split a given dataframe into groups and list all the keys from the GroupBy object.\n",
    "\n",
    "<center> Test Data: </center>\n",
    "\n",
    "|| school_code | class | name | date_of_birth | age | height | weight | address |\n",
    "| --- | --- | --- | --- | --- | --- | --- | --- | --- |\n",
    "S1|        s001     |V|  Alberto Franco     |15/05/2002|   12     |173|      35| street1  <br>\n",
    "S2 |       s002    | V |   Gino Mcneill    | 17/05/2002 |  12    | 192 |     32| street2  <br>\n",
    "S3  |      s003   | VI  |   Ryan Parkes   |  16/02/1999  | 13   |  186  |    33| street3  <br>\n",
    "S4   |     s001  |  VI   | Eesha Hinton  |   25/09/1998   |13  |   167   |   30| street1  <br>\n",
    "S5    |    s002 |    V    |Gino Mcneill |    11/05/2002  | 14 |    151    |  31| street2  <br>\n",
    "S6     |   s004|    VI   | David Parkes|     15/09/1997 |  12|     159     | 32| street3  <br>"
   ]
  },
  {
   "cell_type": "code",
   "execution_count": null,
   "id": "14e45b6f-8381-40b2-8e84-d702bcbf5d85",
   "metadata": {},
   "outputs": [],
   "source": []
  },
  {
   "cell_type": "markdown",
   "id": "fbefafe3-b63f-45e3-a004-b585a1666b46",
   "metadata": {},
   "source": [
    "12. Write a Pandas program to split a given dataset using group by on multiple columns and drop last n rows of from each group.\n",
    "\n",
    "<center>Test Data:</center>\n",
    "\n",
    "|| ord_no | purch_amt | ord_date | customer_id |\n",
    "| --- | --- | --- | --- | --- | \n",
    "0|    70001|     150.50|  2012-10-05|         3002|         5002<br>\n",
    "1 |   70009 |    270.65 | 2012-09-10 |        3001 |        5003<br>\n",
    "2  |  70002  |    65.26  |2012-10-05  |       3001  |       5001<br>\n",
    "3   | 70004   |  110.50|  2012-08-17   |      3003   |      5003<br>\n",
    "4    |70007    | 948.50 | 2012-09-10    |     3002    |     5002<br>\n",
    "5    |70005    |2400.60  |2012-07-27     |    3002     |    5001<br>\n",
    "6|    70008   | 5760.00|  2012-09-10      |   3001      |   5001<br>\n",
    "7 |   70010   | 1983.43 | 2012-10-10       |  3004       |  5003<br>\n",
    "8  |  70003   | 2480.40  |2012-10-10        | 3003        | 5003<br>\n",
    "9   | 70012    | 250.45|  2012-06-27         |3002         |5002<br>\n",
    "10   |70011     | 75.29 | 2012-08-17        | 3003        | 5003<br>\n",
    "11  | 70013   | 3045.60  |2012-04-25       |  3001       |  5001<br>"
   ]
  },
  {
   "cell_type": "code",
   "execution_count": null,
   "id": "b69b0f93-681b-4293-a38a-666ab774e007",
   "metadata": {},
   "outputs": [],
   "source": []
  },
  {
   "cell_type": "markdown",
   "id": "7a756624-19cd-431e-87c2-f51f3a39606b",
   "metadata": {},
   "source": [
    "13. Write a Pandas program to find out the 'WHO region, 'Country', 'Beverage Types' in the year '1986' or '1989' where WHO region is 'Americas' or 'Europe' from the world alcohol consumption dataset. \n",
    "\n",
    "<center>World alcohol consumption data example:</center>\n",
    "\n",
    "|| Year | WHO region |  Country | Beverage Types | Display Value |\n",
    "| --- | --- | --- | --- | --- | --- |\n",
    "0|  1986|  Western Pacific    |           Viet Nam|           Wine    |       0.00<br>\n",
    "1 | 1986 |        Americas   |             Uruguay |         Other   |        0.50<br>\n",
    "2  |1985  |         Africa  |         Cte d'Ivoire  |         Wine  |         1.62<br>\n",
    "3  |1986   |      Americas |              Colombia   |        Beer |          4.27<br>\n",
    "4  |1987    |     Americas|  Saint Kitts and Nevis    |       Beer|           1.98<br>"
   ]
  },
  {
   "cell_type": "code",
   "execution_count": null,
   "id": "a8a8fd8b-6496-44c5-92eb-2f7601024b0f",
   "metadata": {},
   "outputs": [],
   "source": []
  },
  {
   "cell_type": "markdown",
   "id": "a541abeb-2bb7-447e-958d-0f17e94f30b3",
   "metadata": {},
   "source": [
    "14. Write a Pandas program to filter all records starting from the 2nd row, access every 5th row from world alcohol consumption dataset. Data: world_alcohol.csv"
   ]
  },
  {
   "cell_type": "code",
   "execution_count": null,
   "id": "00273228-f535-496e-a462-0048725650e6",
   "metadata": {},
   "outputs": [],
   "source": []
  },
  {
   "cell_type": "markdown",
   "id": "04a341ef-6e9b-4de7-a6c9-6a3e02926f39",
   "metadata": {},
   "source": [
    "15. Write a Pandas program to filter rows based on row numbers ended with 0, like 0, 10, 20, 30 from world alcohol consumption dataset. Data: world_alcohol.csv"
   ]
  },
  {
   "cell_type": "code",
   "execution_count": null,
   "id": "39a3d73e-dcc7-4f83-9130-bbe68828e7b9",
   "metadata": {},
   "outputs": [],
   "source": []
  },
  {
   "cell_type": "code",
   "execution_count": null,
   "id": "436bad10-0c51-436c-bf16-cd5dbf413e75",
   "metadata": {},
   "outputs": [],
   "source": []
  }
 ],
 "metadata": {
  "kernelspec": {
   "display_name": "Python 3.10.8 ('.venv': poetry)",
   "language": "python",
   "name": "python3"
  },
  "language_info": {
   "codemirror_mode": {
    "name": "ipython",
    "version": 3
   },
   "file_extension": ".py",
   "mimetype": "text/x-python",
   "name": "python",
   "nbconvert_exporter": "python",
   "pygments_lexer": "ipython3",
   "version": "3.10.8"
  },
  "vscode": {
   "interpreter": {
    "hash": "a22b6825f9e113a311afc55350058259ccc0eb0dce9f7d7acd1161745c419192"
   }
  }
 },
 "nbformat": 4,
 "nbformat_minor": 5
}
